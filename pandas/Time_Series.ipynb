{
 "cells": [
  {
   "cell_type": "code",
   "execution_count": 1,
   "metadata": {
    "collapsed": false
   },
   "outputs": [
   ],
   "source": [
    "import pandas as pd\n",
    "import numpy as np"
   ]
  },
  {
   "cell_type": "markdown",
   "metadata": {
    "collapsed": false
   },
   "source": [
    "# Time Series "
   ]
  },
  {
   "cell_type": "code",
   "execution_count": 10,
   "metadata": {
    "collapsed": false
   },
   "outputs": [
   ],
   "source": [
    "# Create a range of 24 hours starting with midnight tonight\n",
    "\n",
    "rng = pd.date_range('2018-01-07',periods = 24, freq=\"H\")"
   ]
  },
  {
   "cell_type": "code",
   "execution_count": 11,
   "metadata": {
    "collapsed": false
   },
   "outputs": [
    {
     "data": {
      "text/plain": [
       "DatetimeIndex(['2018-01-07 00:00:00', '2018-01-07 01:00:00',\n",
       "               '2018-01-07 02:00:00', '2018-01-07 03:00:00',\n",
       "               '2018-01-07 04:00:00', '2018-01-07 05:00:00',\n",
       "               '2018-01-07 06:00:00', '2018-01-07 07:00:00',\n",
       "               '2018-01-07 08:00:00', '2018-01-07 09:00:00',\n",
       "               '2018-01-07 10:00:00', '2018-01-07 11:00:00',\n",
       "               '2018-01-07 12:00:00', '2018-01-07 13:00:00',\n",
       "               '2018-01-07 14:00:00', '2018-01-07 15:00:00',\n",
       "               '2018-01-07 16:00:00', '2018-01-07 17:00:00',\n",
       "               '2018-01-07 18:00:00', '2018-01-07 19:00:00',\n",
       "               '2018-01-07 20:00:00', '2018-01-07 21:00:00',\n",
       "               '2018-01-07 22:00:00', '2018-01-07 23:00:00'],\n",
       "              dtype='datetime64[ns]', freq='H')"
      ]
     },
     "execution_count": 11,
     "metadata": {
     },
     "output_type": "execute_result"
    }
   ],
   "source": [
    "rng"
   ]
  },
  {
   "cell_type": "code",
   "execution_count": 12,
   "metadata": {
    "collapsed": false
   },
   "outputs": [
   ],
   "source": [
    "# Use the dates as an index\n",
    "\n",
    "s = pd.Series(np.random.rand(len(rng)), index=rng)"
   ]
  },
  {
   "cell_type": "code",
   "execution_count": 13,
   "metadata": {
    "collapsed": false
   },
   "outputs": [
    {
     "data": {
      "text/plain": [
       "2018-01-07 00:00:00    0.421571\n",
       "2018-01-07 01:00:00    0.699927\n",
       "2018-01-07 02:00:00    0.864974\n",
       "2018-01-07 03:00:00    0.746306\n",
       "2018-01-07 04:00:00    0.311862\n",
       "Freq: H, dtype: float64"
      ]
     },
     "execution_count": 13,
     "metadata": {
     },
     "output_type": "execute_result"
    }
   ],
   "source": [
    "s.head()"
   ]
  },
  {
   "cell_type": "code",
   "execution_count": 15,
   "metadata": {
    "collapsed": false
   },
   "outputs": [
    {
     "data": {
      "text/plain": [
       "2018-01-07 00:00:00    0.421571\n",
       "2018-01-07 01:00:00    0.699927\n",
       "2018-01-07 02:00:00    0.864974\n",
       "2018-01-07 03:00:00    0.746306\n",
       "2018-01-07 04:00:00    0.311862\n",
       "2018-01-07 05:00:00    0.646831\n",
       "2018-01-07 06:00:00    0.402041\n",
       "2018-01-07 07:00:00    0.913358\n",
       "2018-01-07 08:00:00    0.679883\n",
       "2018-01-07 09:00:00    0.157152\n",
       "2018-01-07 10:00:00    0.097058\n",
       "2018-01-07 11:00:00    0.975317\n",
       "Freq: H, dtype: float64"
      ]
     },
     "execution_count": 15,
     "metadata": {
     },
     "output_type": "execute_result"
    }
   ],
   "source": [
    "s[:12]"
   ]
  },
  {
   "cell_type": "code",
   "execution_count": 18,
   "metadata": {
    "collapsed": false
   },
   "outputs": [
   ],
   "source": [
    "# Change frequency to 45 minutes and \"forward fill\"\n",
    "\n",
    "converted = s.asfreq('45min', method='pad')\n",
    "\n",
    "# 'pad' takes the last valid observation and propagates it forward"
   ]
  },
  {
   "cell_type": "code",
   "execution_count": 19,
   "metadata": {
    "collapsed": false
   },
   "outputs": [
    {
     "data": {
      "text/plain": [
       "2018-01-07 00:00:00    0.421571\n",
       "2018-01-07 00:45:00    0.421571\n",
       "2018-01-07 01:30:00    0.699927\n",
       "2018-01-07 02:15:00    0.864974\n",
       "2018-01-07 03:00:00    0.746306\n",
       "Freq: 45T, dtype: float64"
      ]
     },
     "execution_count": 19,
     "metadata": {
     },
     "output_type": "execute_result"
    }
   ],
   "source": [
    "converted.head()"
   ]
  },
  {
   "cell_type": "code",
   "execution_count": 22,
   "metadata": {
    "collapsed": false
   },
   "outputs": [
    {
     "data": {
      "text/plain": [
       "2018-01-07 00:00:00    0.615245\n",
       "2018-01-07 06:00:00    0.537468\n",
       "2018-01-07 12:00:00    0.271401\n",
       "2018-01-07 18:00:00    0.513456\n",
       "Freq: 6H, dtype: float64"
      ]
     },
     "execution_count": 22,
     "metadata": {
     },
     "output_type": "execute_result"
    }
   ],
   "source": [
    "# \"s\" is currently listed hourly. We can _resample_ to change the frequency and \n",
    "# use some kind of function to give us the summary.\n",
    "# E.g. 6 hour means: \n",
    "\n",
    "s.resample('6H').mean()"
   ]
  },
  {
   "cell_type": "code",
   "execution_count": 0,
   "metadata": {
    "collapsed": false
   },
   "outputs": [
   ],
   "source": [
   ]
  }
 ],
 "metadata": {
  "kernelspec": {
   "display_name": "Python 3 (Anaconda)",
   "language": "python",
   "name": "anaconda3"
  },
  "language_info": {
   "codemirror_mode": {
    "name": "ipython",
    "version": 3
   },
   "file_extension": ".py",
   "mimetype": "text/x-python",
   "name": "python",
   "nbconvert_exporter": "python",
   "pygments_lexer": "ipython3",
   "version": "3.5.4"
  }
 },
 "nbformat": 4,
 "nbformat_minor": 0
}